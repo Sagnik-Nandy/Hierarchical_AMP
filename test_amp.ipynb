{
 "cells": [
  {
   "cell_type": "code",
   "execution_count": null,
   "metadata": {},
   "outputs": [],
   "source": [
    "import numpy as np\n",
    "\n",
    "from amp import ebamp_multimodal\n",
    "from pca_pack import MultiModalityPCA\n",
    "from preprocessing import MultiModalityPCADiagnostics\n",
    "from emp_bayes import ClusterEmpiricalBayes\n",
    "from hier"
   ]
  }
 ],
 "metadata": {
  "language_info": {
   "name": "python"
  }
 },
 "nbformat": 4,
 "nbformat_minor": 2
}
