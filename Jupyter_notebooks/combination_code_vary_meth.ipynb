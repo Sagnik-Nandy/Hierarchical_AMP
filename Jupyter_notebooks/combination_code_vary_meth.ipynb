{
 "cells": [
  {
   "cell_type": "code",
   "execution_count": null,
   "metadata": {},
   "outputs": [],
   "source": [
    "import pandas as pd\n",
    "import matplotlib.pyplot as plt\n",
    "import os\n",
    "\n",
    "# Load the combined results\n",
    "df = pd.read_csv(\"/home/sagnik/Research/Hierarchical_AMP/Results/vary_meth/combined_for_ggplot.csv\")\n",
    "\n",
    "# Use ggplot-style aesthetics\n",
    "plt.style.use(\"ggplot\")\n",
    "\n",
    "# Ensure the output directory exists\n",
    "output_dir = \"/home/sagnik/Research/Hierarchical_AMP/Plots/vary_meth\"\n",
    "os.makedirs(output_dir, exist_ok=True)\n",
    "\n",
    "# Plot for each modality\n",
    "for modality in sorted(df[\"Modality\"].unique()):\n",
    "    plt.figure(figsize=(8, 5))\n",
    "    subset = df[df[\"Modality\"] == modality]\n",
    "\n",
    "    for method in sorted(subset[\"Method\"].unique()):\n",
    "        method_data = subset[subset[\"Method\"] == method].sort_values(\"N\")\n",
    "        plt.plot(\n",
    "            method_data[\"N\"],\n",
    "            method_data[\"Error\"],\n",
    "            marker='o',\n",
    "            label=method,\n",
    "            linewidth=2\n",
    "        )\n",
    "\n",
    "    plt.title(f\"Modality {modality} - Reconstruction Error vs N\", fontsize=14)\n",
    "    plt.xlabel(\"Sample Size (N)\", fontsize=12)\n",
    "    plt.ylabel(\"Reconstruction Error\", fontsize=12)\n",
    "    plt.xticks(sorted(df[\"N\"].unique()))\n",
    "    plt.legend(title=\"Method\")\n",
    "    plt.tight_layout()\n",
    "\n",
    "    # Save and show\n",
    "    plot_path = os.path.join(output_dir, f\"modality_{modality}_error_vs_n.png\")\n",
    "    plt.savefig(plot_path, dpi=150)\n",
    "    plt.show()"
   ]
  }
 ],
 "metadata": {
  "kernelspec": {
   "display_name": "HierarchicalAMP",
   "language": "python",
   "name": "python3"
  },
  "language_info": {
   "name": "python",
   "version": "3.10.16"
  }
 },
 "nbformat": 4,
 "nbformat_minor": 2
}
