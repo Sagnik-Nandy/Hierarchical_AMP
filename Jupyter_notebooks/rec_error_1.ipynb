{
 "cells": [
  {
   "cell_type": "code",
   "execution_count": 1,
   "metadata": {},
   "outputs": [],
   "source": [
    "import numpy as np\n",
    "import scipy as sp\n",
    "import matplotlib as plt\n",
    "import importlib\n",
    "from tqdm import tqdm\n",
    "\n",
    "# Dynamically import modules\n",
    "amp = importlib.import_module(\"amp\")\n",
    "pca_pack = importlib.import_module(\"pca_pack\")\n",
    "preprocessing = importlib.import_module(\"preprocessing\")\n",
    "emp_bayes = importlib.import_module(\"emp_bayes\")\n",
    "hierarchical = importlib.import_module(\"hierarchical_clustering_modalities\")\n",
    "pipeline = importlib.import_module(\"complete_pipeline\")\n",
    "\n",
    "# Reload to reflect any changes made without restarting kernel\n",
    "importlib.reload(amp)\n",
    "importlib.reload(pca_pack)\n",
    "importlib.reload(preprocessing)\n",
    "importlib.reload(emp_bayes)\n",
    "importlib.reload(hierarchical)\n",
    "importlib.reload(pipeline)\n",
    "\n",
    "# Now access objects from reloaded modules\n",
    "ebamp_multimodal = amp.ebamp_multimodal\n",
    "MultiModalityPCA = pca_pack.MultiModalityPCA\n",
    "MultiModalityPCADiagnostics = preprocessing.MultiModalityPCADiagnostics\n",
    "ClusterEmpiricalBayes = emp_bayes.ClusterEmpiricalBayes\n",
    "ModalityClusterer = hierarchical.ModalityClusterer\n",
    "MultimodalPCAPipeline = pipeline.MultimodalPCAPipelineSimulation\n",
    "MultimodalPCAPipelineClustering = pipeline.MultimodalPCAPipelineClusteringSimulation"
   ]
  },
  {
   "cell_type": "code",
   "execution_count": 2,
   "metadata": {},
   "outputs": [],
   "source": [
    "# --- Global Parameters ---\n",
    "p_list = [1000, 1000, 1500]  # Feature dimensions for each modality\n",
    "r_list = [1, 2, 1]           # Rank per modality (number of PCs)"
   ]
  },
  {
   "cell_type": "code",
   "execution_count": 3,
   "metadata": {},
   "outputs": [],
   "source": [
    "# --- Utility: Rademacher generator ---\n",
    "def generate_rademacher(shape):\n",
    "    return np.random.choice([-1, 1], size=shape)"
   ]
  },
  {
   "cell_type": "code",
   "execution_count": 4,
   "metadata": {},
   "outputs": [],
   "source": [
    "# --- Utility: Reconstruction error ---\n",
    "def reconstruction_error(U_est, U_true):\n",
    "    P_est = U_est @ U_est.T\n",
    "    P_true = U_true @ U_true.T\n",
    "    return np.linalg.norm(P_est - P_true, 'fro')**2 / (U_true.shape[0]**2)"
   ]
  },
  {
   "cell_type": "code",
   "execution_count": 5,
   "metadata": {},
   "outputs": [],
   "source": [
    "# --- Main experiment runner ---\n",
    "def run_amp_comparison_experiment(n=2000, num_trials=100, amp_iters=15):\n",
    "    errors_clustered = {i: [] for i in range(3)}\n",
    "    errors_same = {i: [] for i in range(3)}\n",
    "    errors_distinct = {i: [] for i in range(3)}\n",
    "\n",
    "    for trial in tqdm(range(num_trials), desc=\"Trials\"):\n",
    "        # Generate U\n",
    "        U1 = generate_rademacher((n, r_list[0]))\n",
    "        U2 = np.hstack([U1[:, :r_list[0]], generate_rademacher((n, r_list[1] - r_list[0]))])\n",
    "        U3 = generate_rademacher((n, r_list[2]))\n",
    "        U_true = [U1, U2, U3]\n",
    "\n",
    "        # Generate V\n",
    "        V1 = generate_rademacher((p_list[0], r_list[0]))\n",
    "        V2 = generate_rademacher((p_list[1], r_list[1]))\n",
    "        V3 = generate_rademacher((p_list[2], r_list[2]))\n",
    "\n",
    "        # D matrices\n",
    "        D1 = np.diag([5 * (i+1) for i in range(r_list[0])])\n",
    "        D2 = np.diag([5 * (i+1) for i in range(r_list[1])])\n",
    "        D3 = np.diag([5 * (i+1) for i in range(r_list[2])])\n",
    "\n",
    "        # Noise\n",
    "        Z1 = np.random.randn(n, p_list[0]) / np.sqrt(n)\n",
    "        Z2 = np.random.randn(n, p_list[1]) / np.sqrt(n)\n",
    "        Z3 = np.random.randn(n, p_list[2]) / np.sqrt(n)\n",
    "\n",
    "        # Observed data\n",
    "        X1 = (1/n) * U1 @ D1 @ V1.T + Z1\n",
    "        X2 = (1/n) * U2 @ D2 @ V2.T + Z2\n",
    "        X3 = (1/n) * U3 @ D3 @ V3.T + Z3\n",
    "        X_list = [X1, X2, X3]\n",
    "        K_list = r_list\n",
    "\n",
    "        # AMP with clustering\n",
    "        pipe_cluster = MultimodalPCAPipelineClustering()\n",
    "        result_cluster = pipe_cluster.denoise_amp(X_list, K_list, compute_clusters=True, num_clusters=2, amp_iters=amp_iters)\n",
    "        U_cluster = result_cluster[\"U_denoised\"]\n",
    "\n",
    "        # AMP with same-cluster (all modalities in one group)\n",
    "        pipe_same = MultimodalPCAPipeline()\n",
    "        result_same = pipe_same.denoise_amp(X_list, K_list, cluster_labels_U=np.array([0, 0, 0]), amp_iters=amp_iters)\n",
    "        U_same = result_same[\"U_denoised\"]\n",
    "\n",
    "        # AMP with different clusters (1 per modality)\n",
    "        pipe_distinct = MultimodalPCAPipeline()\n",
    "        result_distinct = pipe_distinct.denoise_amp(X_list, K_list, cluster_labels_U=np.array([0, 1, 2]), amp_iters=amp_iters)\n",
    "        U_distinct = result_distinct[\"U_denoised\"]\n",
    "\n",
    "        # Compute reconstruction errors\n",
    "        for i in range(3):\n",
    "            errors_clustered[i].append(reconstruction_error(U_cluster[i][:, :, -1], U_true[i]))\n",
    "            errors_same[i].append(reconstruction_error(U_same[i][:, :, -1], U_true[i]))\n",
    "            errors_distinct[i].append(reconstruction_error(U_distinct[i][:, :, -1], U_true[i]))\n",
    "\n",
    "        print(\n",
    "            f\"[Trial {trial+1}] \"\n",
    "            f\"Reconstruction Errors - \"\n",
    "            f\"Clustering: {[round(errors_clustered[i][-1], 5) for i in range(3)]}, \"\n",
    "            f\"Same Cluster: {[round(errors_same[i][-1], 5) for i in range(3)]}, \"\n",
    "            f\"Distinct Clusters: {[round(errors_distinct[i][-1], 5) for i in range(3)]}\"\n",
    "        )\n",
    "\n",
    "    return errors_clustered, errors_same, errors_distinct"
   ]
  },
  {
   "cell_type": "code",
   "execution_count": 6,
   "metadata": {},
   "outputs": [
    {
     "name": "stderr",
     "output_type": "stream",
     "text": [
      "Trials:   2%|▏         | 1/50 [00:42<34:49, 42.63s/it]"
     ]
    },
    {
     "name": "stdout",
     "output_type": "stream",
     "text": [
      "[Trial 1] Reconstruction Errors - Clustering: [np.float64(0.01739), np.float64(0.03232), np.float64(0.02177)], Same Cluster: [np.float64(0.06761), np.float64(0.0678), np.float64(0.07753)], Distinct Clusters: [np.float64(0.07491), np.float64(0.0779), np.float64(0.02164)]\n"
     ]
    },
    {
     "name": "stderr",
     "output_type": "stream",
     "text": [
      "Trials:   2%|▏         | 1/50 [00:50<41:30, 50.82s/it]\n"
     ]
    },
    {
     "ename": "KeyboardInterrupt",
     "evalue": "",
     "output_type": "error",
     "traceback": [
      "\u001b[0;31m---------------------------------------------------------------------------\u001b[0m",
      "\u001b[0;31mKeyboardInterrupt\u001b[0m                         Traceback (most recent call last)",
      "Cell \u001b[0;32mIn[6], line 1\u001b[0m\n\u001b[0;32m----> 1\u001b[0m errors_clustered, errors_same, errors_distinct \u001b[38;5;241m=\u001b[39m \u001b[43mrun_amp_comparison_experiment\u001b[49m\u001b[43m(\u001b[49m\u001b[43mn\u001b[49m\u001b[38;5;241;43m=\u001b[39;49m\u001b[38;5;241;43m5000\u001b[39;49m\u001b[43m,\u001b[49m\u001b[43m \u001b[49m\u001b[43mnum_trials\u001b[49m\u001b[38;5;241;43m=\u001b[39;49m\u001b[38;5;241;43m50\u001b[39;49m\u001b[43m,\u001b[49m\u001b[43m \u001b[49m\u001b[43mamp_iters\u001b[49m\u001b[38;5;241;43m=\u001b[39;49m\u001b[38;5;241;43m10\u001b[39;49m\u001b[43m)\u001b[49m\n",
      "Cell \u001b[0;32mIn[5], line 38\u001b[0m, in \u001b[0;36mrun_amp_comparison_experiment\u001b[0;34m(n, num_trials, amp_iters)\u001b[0m\n\u001b[1;32m     36\u001b[0m \u001b[38;5;66;03m# AMP with clustering\u001b[39;00m\n\u001b[1;32m     37\u001b[0m pipe_cluster \u001b[38;5;241m=\u001b[39m MultimodalPCAPipelineClustering()\n\u001b[0;32m---> 38\u001b[0m result_cluster \u001b[38;5;241m=\u001b[39m \u001b[43mpipe_cluster\u001b[49m\u001b[38;5;241;43m.\u001b[39;49m\u001b[43mdenoise_amp\u001b[49m\u001b[43m(\u001b[49m\u001b[43mX_list\u001b[49m\u001b[43m,\u001b[49m\u001b[43m \u001b[49m\u001b[43mK_list\u001b[49m\u001b[43m,\u001b[49m\u001b[43m \u001b[49m\u001b[43mcompute_clusters\u001b[49m\u001b[38;5;241;43m=\u001b[39;49m\u001b[38;5;28;43;01mTrue\u001b[39;49;00m\u001b[43m,\u001b[49m\u001b[43m \u001b[49m\u001b[43mnum_clusters\u001b[49m\u001b[38;5;241;43m=\u001b[39;49m\u001b[38;5;241;43m2\u001b[39;49m\u001b[43m,\u001b[49m\u001b[43m \u001b[49m\u001b[43mamp_iters\u001b[49m\u001b[38;5;241;43m=\u001b[39;49m\u001b[43mamp_iters\u001b[49m\u001b[43m)\u001b[49m\n\u001b[1;32m     39\u001b[0m U_cluster \u001b[38;5;241m=\u001b[39m result_cluster[\u001b[38;5;124m\"\u001b[39m\u001b[38;5;124mU_denoised\u001b[39m\u001b[38;5;124m\"\u001b[39m]\n\u001b[1;32m     41\u001b[0m \u001b[38;5;66;03m# AMP with same-cluster (all modalities in one group)\u001b[39;00m\n",
      "File \u001b[0;32m~/Documents/Hierarchical_AMP/complete_pipeline.py:454\u001b[0m, in \u001b[0;36mMultimodalPCAPipelineClusteringSimulation.denoise_amp\u001b[0;34m(self, X_list, K_list, cluster_labels_U, compute_clusters, num_clusters, threshold, amp_iters, muteu, mutev, preprocess)\u001b[0m\n\u001b[1;32m    452\u001b[0m \u001b[38;5;66;03m# Step 2: PCA\u001b[39;00m\n\u001b[1;32m    453\u001b[0m \u001b[38;5;28mself\u001b[39m\u001b[38;5;241m.\u001b[39mpca_model \u001b[38;5;241m=\u001b[39m pca_pack\u001b[38;5;241m.\u001b[39mMultiModalityPCA()\n\u001b[0;32m--> 454\u001b[0m \u001b[38;5;28;43mself\u001b[39;49m\u001b[38;5;241;43m.\u001b[39;49m\u001b[43mpca_model\u001b[49m\u001b[38;5;241;43m.\u001b[39;49m\u001b[43mfit\u001b[49m\u001b[43m(\u001b[49m\u001b[43mX_list\u001b[49m\u001b[43m,\u001b[49m\u001b[43m \u001b[49m\u001b[43mK_list\u001b[49m\u001b[43m,\u001b[49m\u001b[43m \u001b[49m\u001b[43mplot_residual\u001b[49m\u001b[38;5;241;43m=\u001b[39;49m\u001b[38;5;28;43;01mFalse\u001b[39;49;00m\u001b[43m)\u001b[49m\n\u001b[1;32m    456\u001b[0m \u001b[38;5;66;03m# Step 3: Clustering\u001b[39;00m\n\u001b[1;32m    457\u001b[0m U_normalized_list \u001b[38;5;241m=\u001b[39m extract_normalized_U(\u001b[38;5;28mself\u001b[39m\u001b[38;5;241m.\u001b[39mpca_model, X_list)\n",
      "File \u001b[0;32m~/Documents/Hierarchical_AMP/pca_pack.py:35\u001b[0m, in \u001b[0;36mMultiModalityPCA.fit\u001b[0;34m(self, X_list, K_list, plot_residual)\u001b[0m\n\u001b[1;32m     31\u001b[0m     \u001b[38;5;28;01mraise\u001b[39;00m \u001b[38;5;167;01mValueError\u001b[39;00m(\u001b[38;5;124m\"\u001b[39m\u001b[38;5;124mMismatch: Number of modalities and K values must be the same.\u001b[39m\u001b[38;5;124m\"\u001b[39m)\n\u001b[1;32m     33\u001b[0m \u001b[38;5;28;01mfor\u001b[39;00m k, (X_k, K_k) \u001b[38;5;129;01min\u001b[39;00m \u001b[38;5;28menumerate\u001b[39m(\u001b[38;5;28mzip\u001b[39m(X_list, K_list)):\n\u001b[1;32m     34\u001b[0m     \u001b[38;5;66;03m#print(f\"Running PCA for Modality {k}: Shape {X_k.shape}, K={K_k}\")\u001b[39;00m\n\u001b[0;32m---> 35\u001b[0m     \u001b[38;5;28mself\u001b[39m\u001b[38;5;241m.\u001b[39mpca_results[k] \u001b[38;5;241m=\u001b[39m \u001b[38;5;28;43mself\u001b[39;49m\u001b[38;5;241;43m.\u001b[39;49m\u001b[43m_get_pca\u001b[49m\u001b[43m(\u001b[49m\u001b[43mX_k\u001b[49m\u001b[43m,\u001b[49m\u001b[43m \u001b[49m\u001b[43mK_k\u001b[49m\u001b[43m)\u001b[49m\n\u001b[1;32m     37\u001b[0m     \u001b[38;5;28;01mif\u001b[39;00m plot_residual:\n\u001b[1;32m     38\u001b[0m         \u001b[38;5;28mself\u001b[39m\u001b[38;5;241m.\u001b[39m_plot_residual_spectrum(k)\n",
      "File \u001b[0;32m~/Documents/Hierarchical_AMP/pca_pack.py:62\u001b[0m, in \u001b[0;36mMultiModalityPCA._get_pca\u001b[0;34m(self, X, K, update_signal)\u001b[0m\n\u001b[1;32m     59\u001b[0m     \u001b[38;5;28;01mraise\u001b[39;00m \u001b[38;5;167;01mValueError\u001b[39;00m(\u001b[38;5;124m\"\u001b[39m\u001b[38;5;124mK must be greater than zero.\u001b[39m\u001b[38;5;124m\"\u001b[39m)\n\u001b[1;32m     61\u001b[0m n_samples, n_features \u001b[38;5;241m=\u001b[39m X\u001b[38;5;241m.\u001b[39mshape\n\u001b[0;32m---> 62\u001b[0m U, Lambdas, Vh \u001b[38;5;241m=\u001b[39m \u001b[43mnp\u001b[49m\u001b[38;5;241;43m.\u001b[39;49m\u001b[43mlinalg\u001b[49m\u001b[38;5;241;43m.\u001b[39;49m\u001b[43msvd\u001b[49m\u001b[43m(\u001b[49m\u001b[43mX\u001b[49m\u001b[43m,\u001b[49m\u001b[43m \u001b[49m\u001b[43mfull_matrices\u001b[49m\u001b[38;5;241;43m=\u001b[39;49m\u001b[38;5;28;43;01mFalse\u001b[39;49;00m\u001b[43m)\u001b[49m\n\u001b[1;32m     64\u001b[0m \u001b[38;5;66;03m# Extract top-K components\u001b[39;00m\n\u001b[1;32m     65\u001b[0m U_K, Lambda_K, V_K \u001b[38;5;241m=\u001b[39m U[:, :K], np\u001b[38;5;241m.\u001b[39mdiag(Lambdas[:K]), Vh[:K, :]\n",
      "File \u001b[0;32m~/miniconda3/envs/hierarchical_amp/lib/python3.10/site-packages/numpy/linalg/_linalg.py:1796\u001b[0m, in \u001b[0;36msvd\u001b[0;34m(a, full_matrices, compute_uv, hermitian)\u001b[0m\n\u001b[1;32m   1792\u001b[0m signature \u001b[38;5;241m=\u001b[39m \u001b[38;5;124m'\u001b[39m\u001b[38;5;124mD->DdD\u001b[39m\u001b[38;5;124m'\u001b[39m \u001b[38;5;28;01mif\u001b[39;00m isComplexType(t) \u001b[38;5;28;01melse\u001b[39;00m \u001b[38;5;124m'\u001b[39m\u001b[38;5;124md->ddd\u001b[39m\u001b[38;5;124m'\u001b[39m\n\u001b[1;32m   1793\u001b[0m \u001b[38;5;28;01mwith\u001b[39;00m errstate(call\u001b[38;5;241m=\u001b[39m_raise_linalgerror_svd_nonconvergence,\n\u001b[1;32m   1794\u001b[0m               invalid\u001b[38;5;241m=\u001b[39m\u001b[38;5;124m'\u001b[39m\u001b[38;5;124mcall\u001b[39m\u001b[38;5;124m'\u001b[39m, over\u001b[38;5;241m=\u001b[39m\u001b[38;5;124m'\u001b[39m\u001b[38;5;124mignore\u001b[39m\u001b[38;5;124m'\u001b[39m, divide\u001b[38;5;241m=\u001b[39m\u001b[38;5;124m'\u001b[39m\u001b[38;5;124mignore\u001b[39m\u001b[38;5;124m'\u001b[39m,\n\u001b[1;32m   1795\u001b[0m               under\u001b[38;5;241m=\u001b[39m\u001b[38;5;124m'\u001b[39m\u001b[38;5;124mignore\u001b[39m\u001b[38;5;124m'\u001b[39m):\n\u001b[0;32m-> 1796\u001b[0m     u, s, vh \u001b[38;5;241m=\u001b[39m \u001b[43mgufunc\u001b[49m\u001b[43m(\u001b[49m\u001b[43ma\u001b[49m\u001b[43m,\u001b[49m\u001b[43m \u001b[49m\u001b[43msignature\u001b[49m\u001b[38;5;241;43m=\u001b[39;49m\u001b[43msignature\u001b[49m\u001b[43m)\u001b[49m\n\u001b[1;32m   1797\u001b[0m u \u001b[38;5;241m=\u001b[39m u\u001b[38;5;241m.\u001b[39mastype(result_t, copy\u001b[38;5;241m=\u001b[39m\u001b[38;5;28;01mFalse\u001b[39;00m)\n\u001b[1;32m   1798\u001b[0m s \u001b[38;5;241m=\u001b[39m s\u001b[38;5;241m.\u001b[39mastype(_realType(result_t), copy\u001b[38;5;241m=\u001b[39m\u001b[38;5;28;01mFalse\u001b[39;00m)\n",
      "\u001b[0;31mKeyboardInterrupt\u001b[0m: "
     ]
    }
   ],
   "source": [
    "errors_clustered, errors_same, errors_distinct = run_amp_comparison_experiment(n=5000, num_trials=50, amp_iters=10)"
   ]
  },
  {
   "cell_type": "code",
   "execution_count": null,
   "metadata": {},
   "outputs": [],
   "source": []
  }
 ],
 "metadata": {
  "kernelspec": {
   "display_name": "hierarchical_amp",
   "language": "python",
   "name": "python3"
  },
  "language_info": {
   "codemirror_mode": {
    "name": "ipython",
    "version": 3
   },
   "file_extension": ".py",
   "mimetype": "text/x-python",
   "name": "python",
   "nbconvert_exporter": "python",
   "pygments_lexer": "ipython3",
   "version": "3.10.16"
  }
 },
 "nbformat": 4,
 "nbformat_minor": 2
}
